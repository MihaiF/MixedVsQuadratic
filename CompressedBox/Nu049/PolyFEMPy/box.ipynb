{
 "cells": [
  {
   "cell_type": "code",
   "execution_count": 1,
   "metadata": {},
   "outputs": [],
   "source": [
    "import polyfempy as pf\n",
    "import numpy as np\n",
    "import meshplot as mp\n",
    "import igl"
   ]
  },
  {
   "cell_type": "code",
   "execution_count": 2,
   "metadata": {},
   "outputs": [
    {
     "name": "stdout",
     "output_type": "stream",
     "text": [
      "[2020-02-20 11:25:37.152] [polyfem] [info] Loading mesh...\r\n",
      "[2020-02-20 11:25:37.153] [geogram] [info] Loading file box.mesh...\r\n",
      "[2020-02-20 11:25:37.158] [geogram] [info] (FP64) nb_v:125 nb_e:0 nb_f:192 nb_b:0 tri:1 dim:3\r\n",
      "[2020-02-20 11:25:37.158] [geogram] [info]  nb_tets:384\r\n",
      "[2020-02-20 11:25:37.159] [geogram] [info] Attributes on vertices: point[3]\r\n",
      "[2020-02-20 11:25:37.166] [polyfem] [info] mesh bb min [0, 0, 0], max [0.2, 0.2, 0.2]\r\n",
      "[2020-02-20 11:25:37.166] [polyfem] [info]  took 0.0140584s\r\n"
     ]
    }
   ],
   "source": [
    "mesh_path = \"box.mesh\"\n",
    "solver = pf.Solver()\n",
    "solver.load_mesh_from_path(mesh_path)"
   ]
  },
  {
   "cell_type": "code",
   "execution_count": 3,
   "metadata": {},
   "outputs": [],
   "source": [
    "p, t, s = solver.get_boundary_sidesets()"
   ]
  },
  {
   "cell_type": "code",
   "execution_count": 6,
   "metadata": {},
   "outputs": [
    {
     "data": {
      "application/vnd.jupyter.widget-view+json": {
       "model_id": "353368955d2045f786846164aab73eed",
       "version_major": 2,
       "version_minor": 0
      },
      "text/plain": [
       "Renderer(camera=PerspectiveCamera(children=(DirectionalLight(color='white', intensity=0.6, position=(0.1000000…"
      ]
     },
     "metadata": {},
     "output_type": "display_data"
    },
    {
     "data": {
      "text/plain": [
       "<meshplot.Viewer.Viewer at 0x260935b5c08>"
      ]
     },
     "execution_count": 6,
     "metadata": {},
     "output_type": "execute_result"
    }
   ],
   "source": [
    "tmp = np.zeros_like(s)\n",
    "tmp[s==1] = 1\n",
    "tmp[s==3] = 2\n",
    "\n",
    "mp.plot(p, t, tmp, return_plot=True)"
   ]
  },
  {
   "cell_type": "code",
   "execution_count": 25,
   "metadata": {},
   "outputs": [],
   "source": [
    "order = 2"
   ]
  },
  {
   "cell_type": "code",
   "execution_count": 26,
   "metadata": {},
   "outputs": [],
   "source": [
    "settings = pf.Settings(\n",
    "    discr_order=order,\n",
    "    pde=pf.PDEs.LinearElasticity,\n",
    ")"
   ]
  },
  {
   "cell_type": "markdown",
   "metadata": {},
   "source": [
    "settings = pf.Settings(\n",
    "    discr_order=order,\n",
    "    pde=pf.PDEs.NonLinearElasticity,\n",
    "    \n",
    "    nl_solver_rhs_steps=5\n",
    ")"
   ]
  },
  {
   "cell_type": "code",
   "execution_count": 27,
   "metadata": {},
   "outputs": [],
   "source": [
    "settings.set_material_params(\"E\", 66000)\n",
    "settings.set_material_params(\"nu\", 0.49)"
   ]
  },
  {
   "cell_type": "code",
   "execution_count": 28,
   "metadata": {},
   "outputs": [],
   "source": [
    "problem = pf.Problem()"
   ]
  },
  {
   "cell_type": "code",
   "execution_count": 29,
   "metadata": {},
   "outputs": [],
   "source": [
    "problem.set_dirichlet_value(1, [0, 0, 0], [True, True, True])\n",
    "problem.set_dirichlet_value(3, [-0.05, 0, 0], [True, True, True])"
   ]
  },
  {
   "cell_type": "code",
   "execution_count": 30,
   "metadata": {},
   "outputs": [
    {
     "name": "stdout",
     "output_type": "stream",
     "text": [
      "[2020-02-20 15:00:00.612] [polyfem] [info] simplex_count: \t384\n",
      "[2020-02-20 15:00:00.612] [polyfem] [info] regular_count: \t0\n",
      "[2020-02-20 15:00:00.612] [polyfem] [info] regular_boundary_count: \t0\n",
      "[2020-02-20 15:00:00.612] [polyfem] [info] simple_singular_count: \t0\n",
      "[2020-02-20 15:00:00.612] [polyfem] [info] multi_singular_count: \t0\n",
      "[2020-02-20 15:00:00.612] [polyfem] [info] boundary_count: \t0\n",
      "[2020-02-20 15:00:00.612] [polyfem] [info] multi_singular_boundary_count: \t0\n",
      "[2020-02-20 15:00:00.612] [polyfem] [info] non_regular_count: \t0\n",
      "[2020-02-20 15:00:00.612] [polyfem] [info] non_regular_boundary_count: \t0\n",
      "[2020-02-20 15:00:00.612] [polyfem] [info] undefined_count: \t0\n",
      "[2020-02-20 15:00:00.612] [polyfem] [info] total count:\t 384\n",
      "[2020-02-20 15:00:00.613] [polyfem] [info] Building not isoparametric basis...\n",
      "[2020-02-20 15:00:00.624] [polyfem] [info] Computing polygonal basis...\n",
      "[2020-02-20 15:00:00.624] [polyfem] [info]  took 2.97046e-05s\n",
      "[2020-02-20 15:00:00.626] [polyfem] [info] hmin: 0.05\n",
      "[2020-02-20 15:00:00.626] [polyfem] [info] hmax: 0.0866025\n",
      "[2020-02-20 15:00:00.626] [polyfem] [info] havg: 0.0621078\n",
      "[2020-02-20 15:00:00.626] [polyfem] [info]  took 0.0113056s\n",
      "[2020-02-20 15:00:00.626] [polyfem] [info] flipped elements 0\n",
      "[2020-02-20 15:00:00.626] [polyfem] [info] h: 0.0866025\n",
      "[2020-02-20 15:00:00.626] [polyfem] [info] n bases: 729\n",
      "[2020-02-20 15:00:00.626] [polyfem] [info] n pressure bases: 0\n",
      "[2020-02-20 15:00:00.626] [polyfem] [info] Assigning rhs...\n",
      "[2020-02-20 15:00:00.634] [polyfem] [info]  took 0.00873964s\n",
      "[2020-02-20 15:00:00.634] [polyfem] [info] Assembling stiffness mat...\n",
      "[2020-02-20 15:00:00.678] [polyfem] [info]  took 0.043561s\n",
      "[2020-02-20 15:00:00.678] [polyfem] [info] sparsity: 142657/4782969\n",
      "[2020-02-20 15:00:00.678] [polyfem] [info] Solving LinearElasticity with\n",
      "[2020-02-20 15:00:00.678] [polyfem] [info] Hypre...\n"
     ]
    }
   ],
   "source": [
    "settings.problem = problem\n",
    "\n",
    "#solving!\n",
    "solver.settings(settings)\n",
    "\n",
    "solver.solve()"
   ]
  },
  {
   "cell_type": "code",
   "execution_count": 31,
   "metadata": {},
   "outputs": [],
   "source": [
    "pts, tets, disp = solver.get_sampled_solution(boundary_only=True)\n",
    "\n",
    "vertices = pts + disp\n",
    "mises, _ = solver.get_sampled_mises_avg(boundary_only=True)"
   ]
  },
  {
   "cell_type": "code",
   "execution_count": 32,
   "metadata": {},
   "outputs": [
    {
     "data": {
      "application/vnd.jupyter.widget-view+json": {
       "model_id": "68900febb87e4f1d8383a159b92c2faa",
       "version_major": 2,
       "version_minor": 0
      },
      "text/plain": [
       "Renderer(camera=PerspectiveCamera(children=(DirectionalLight(color='white', intensity=0.6, position=(0.0750000…"
      ]
     },
     "metadata": {},
     "output_type": "display_data"
    },
    {
     "data": {
      "text/plain": [
       "<meshplot.Viewer.Viewer at 0x26094613208>"
      ]
     },
     "execution_count": 32,
     "metadata": {},
     "output_type": "execute_result"
    }
   ],
   "source": [
    "mp.plot(vertices, tets, mises, shading={\"flat\":True}, return_plot=True)"
   ]
  },
  {
   "cell_type": "code",
   "execution_count": 33,
   "metadata": {},
   "outputs": [],
   "source": [
    "len = np.linalg.norm(disp, axis=1)"
   ]
  },
  {
   "cell_type": "code",
   "execution_count": 34,
   "metadata": {},
   "outputs": [
    {
     "data": {
      "application/vnd.jupyter.widget-view+json": {
       "model_id": "7d08c5f81dc34d0eb28829412c6c172b",
       "version_major": 2,
       "version_minor": 0
      },
      "text/plain": [
       "Renderer(camera=PerspectiveCamera(children=(DirectionalLight(color='white', intensity=0.6, position=(0.0750000…"
      ]
     },
     "metadata": {},
     "output_type": "display_data"
    },
    {
     "data": {
      "text/plain": [
       "<meshplot.Viewer.Viewer at 0x260945f95c8>"
      ]
     },
     "execution_count": 34,
     "metadata": {},
     "output_type": "execute_result"
    }
   ],
   "source": [
    "mp.plot(vertices, tets, len, shading={\"flat\":True}, return_plot=True)"
   ]
  },
  {
   "cell_type": "code",
   "execution_count": 15,
   "metadata": {},
   "outputs": [
    {
     "name": "stdout",
     "output_type": "stream",
     "text": [
      "Warning: writing matrix in vtu file (check ordering of values)\n"
     ]
    }
   ],
   "source": [
    "solver.export_vtu(\"box_results.vtu\")"
   ]
  }
 ],
 "metadata": {
  "kernelspec": {
   "display_name": "Python 3",
   "language": "python",
   "name": "python3"
  },
  "language_info": {
   "codemirror_mode": {
    "name": "ipython",
    "version": 3
   },
   "file_extension": ".py",
   "mimetype": "text/x-python",
   "name": "python",
   "nbconvert_exporter": "python",
   "pygments_lexer": "ipython3",
   "version": "3.7.4"
  }
 },
 "nbformat": 4,
 "nbformat_minor": 2
}
